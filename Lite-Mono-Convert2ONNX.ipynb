{
  "nbformat": 4,
  "nbformat_minor": 0,
  "metadata": {
    "colab": {
      "provenance": []
    },
    "kernelspec": {
      "name": "python3",
      "display_name": "Python 3"
    },
    "language_info": {
      "name": "python"
    },
    "gpuClass": "standard",
    "accelerator": "GPU"
  },
  "cells": [
    {
      "cell_type": "markdown",
      "source": [
        "# パッケージインストール"
      ],
      "metadata": {
        "id": "6W5UDseKqpts"
      }
    },
    {
      "cell_type": "code",
      "source": [
        "!pip install timm\n",
        "!pip install -U onnx\n",
        "!pip install -U onnxsim\n",
        "!pip install -U onnxruntime"
      ],
      "metadata": {
        "id": "xcDf1jUk7aAh"
      },
      "execution_count": null,
      "outputs": []
    },
    {
      "cell_type": "markdown",
      "source": [
        "# Lite-Monoクローン"
      ],
      "metadata": {
        "id": "ZGF9MtPgq-t0"
      }
    },
    {
      "cell_type": "code",
      "execution_count": null,
      "metadata": {
        "id": "vgpMxSM73w19"
      },
      "outputs": [],
      "source": [
        "!git clone https://github.com/noahzn/Lite-Mono"
      ]
    },
    {
      "cell_type": "code",
      "source": [
        "%cd Lite-Mono"
      ],
      "metadata": {
        "id": "uyqfQsmg4C7X"
      },
      "execution_count": null,
      "outputs": []
    },
    {
      "cell_type": "markdown",
      "source": [
        "# 重みダウンロード"
      ],
      "metadata": {
        "id": "3IvJo_mnrDLi"
      }
    },
    {
      "cell_type": "code",
      "source": [
        "!mkdir weights"
      ],
      "metadata": {
        "id": "5gvRXP075qMX"
      },
      "execution_count": 4,
      "outputs": []
    },
    {
      "cell_type": "code",
      "source": [
        "!wget -O weights/lite-mono_640x192.zip 'https://surfdrive.surf.nl/files/index.php/s/CUjiK221EFLyXDY/download'\n",
        "!wget -O weights/lite-mono-small_640x192.zip 'https://surfdrive.surf.nl/files/index.php/s/8cuZNH1CkNtQwxQ/download'\n",
        "!wget -O weights/lite-mono-tiny_640x192.zip 'https://surfdrive.surf.nl/files/index.php/s/TFDlF3wYQy0Nhmg/download'\n",
        "!wget -O weights/lite-mono-8m_640x192.zip 'https://surfdrive.surf.nl/files/index.php/s/UlkVBi1p99NFWWI/download'\n",
        "\n",
        "!wget -O weights/lite-mono_1024x320.zip 'https://surfdrive.surf.nl/files/index.php/s/IK3VtPj6b5FkVnl/download'\n",
        "!wget -O weights/lite-mono-small_1024x320.zip 'https://surfdrive.surf.nl/files/index.php/s/w8mvJMkB1dP15pu/download'\n",
        "!wget -O weights/lite-mono-tiny_1024x320.zip 'https://surfdrive.surf.nl/files/index.php/s/myxcplTciOkgu5w/download'\n",
        "!wget -O weights/lite-mono-8m_1024x320.zip 'https://surfdrive.surf.nl/files/index.php/s/mgonNFAvoEJmMas/download'"
      ],
      "metadata": {
        "id": "FzCfsADf4HJW"
      },
      "execution_count": null,
      "outputs": []
    },
    {
      "cell_type": "code",
      "source": [
        "!unzip weights/lite-mono_640x192.zip -d weights\n",
        "!unzip weights/lite-mono-small_640x192.zip -d weights\n",
        "!unzip weights/lite-mono-tiny_640x192.zip -d weights\n",
        "!unzip weights/lite-mono-8m_640x192.zip -d weights\n",
        "\n",
        "!unzip weights/lite-mono_1024x320.zip -d weights\n",
        "!unzip weights/lite-mono-small_1024x320.zip -d weights\n",
        "!unzip weights/lite-mono-tiny_1024x320.zip -d weights\n",
        "!unzip weights/lite-mono-8m_1024x320.zip -d weights"
      ],
      "metadata": {
        "id": "0bX4gXTy6Zuj"
      },
      "execution_count": null,
      "outputs": []
    },
    {
      "cell_type": "markdown",
      "source": [
        "# ONNX変換用にデコーダーの出力を修正"
      ],
      "metadata": {
        "id": "9YzaRjVTz-Ys"
      }
    },
    {
      "cell_type": "code",
      "source": [
        "with open('networks/depth_decoder.py') as fp:\n",
        "    file_lines = fp.read()\n",
        "\n",
        "file_lines = file_lines.replace(\n",
        "    'return self.outputs',\n",
        "    'return self.outputs[(\"disp\", 0)]',\n",
        ")\n",
        "\n",
        "with open('networks/depth_decoder.py', mode=\"w\") as fp:\n",
        "    fp.write(file_lines)"
      ],
      "metadata": {
        "id": "a_XXp905kxdX"
      },
      "execution_count": 7,
      "outputs": []
    },
    {
      "cell_type": "markdown",
      "source": [
        "# Lite-Monoロード用関数"
      ],
      "metadata": {
        "id": "WIQEd1Rc2aG5"
      }
    },
    {
      "cell_type": "code",
      "source": [
        "import os\n",
        "\n",
        "import torch\n",
        "from torchvision import transforms, datasets\n",
        "\n",
        "import networks\n",
        "\n",
        "def load_network(model='lite-mono', load_weights_folder=None, device='cuda'):\n",
        "    device = torch.device('cuda')\n",
        "\n",
        "    encoder_path = os.path.join(load_weights_folder, 'encoder.pth')\n",
        "    decoder_path = os.path.join(load_weights_folder, 'depth.pth')\n",
        "\n",
        "    encoder_dict = torch.load(encoder_path)\n",
        "    decoder_dict = torch.load(decoder_path)\n",
        "\n",
        "    feed_height = encoder_dict['height']\n",
        "    feed_width = encoder_dict['width']\n",
        "   \n",
        "    encoder = networks.LiteMono(\n",
        "        model=model,\n",
        "        height=feed_height,\n",
        "        width=feed_width,\n",
        "    )\n",
        "\n",
        "    model_dict = encoder.state_dict()\n",
        "    encoder.load_state_dict(\n",
        "        {k: v\n",
        "        for k, v in encoder_dict.items() if k in model_dict})\n",
        "\n",
        "    encoder.to(device)\n",
        "    encoder.eval()\n",
        "\n",
        "    depth_decoder = networks.DepthDecoder(encoder.num_ch_enc, scales=range(3))\n",
        "    depth_model_dict = depth_decoder.state_dict()\n",
        "    depth_decoder.load_state_dict(\n",
        "        {k: v\n",
        "        for k, v in decoder_dict.items() if k in depth_model_dict})\n",
        "\n",
        "    depth_decoder.to(device)\n",
        "    depth_decoder.eval()\n",
        "\n",
        "    return encoder, depth_decoder"
      ],
      "metadata": {
        "id": "ducEM3fxAECi"
      },
      "execution_count": 8,
      "outputs": []
    },
    {
      "cell_type": "markdown",
      "source": [
        "# ONNX変換用関数"
      ],
      "metadata": {
        "id": "9bgIwpKC2qzv"
      }
    },
    {
      "cell_type": "code",
      "source": [
        "def convert_to_onnx(\n",
        "    input_shape=(640, 192), \n",
        "    output_dir='',\n",
        "    encoder=None, \n",
        "    decoder=None, \n",
        "    device='cpu',\n",
        "):\n",
        "    os.makedirs(output_dir, exist_ok=True)\n",
        "\n",
        "    # encoder\n",
        "    input_image = torch.randn(1, 3, input_shape[1], input_shape[0]).to(device)\n",
        "\n",
        "    input_layer_names = ['input_image']\n",
        "    output_layer_names = ['features']\n",
        "\n",
        "    torch.onnx.export(\n",
        "        encoder, \n",
        "        input_image,\n",
        "        file_name + '/encoder.onnx', \n",
        "        verbose=True,\n",
        "        input_names=input_layer_names,\n",
        "        output_names=output_layer_names,\n",
        "        do_constant_folding=False,\n",
        "        opset_version=13,\n",
        "    )\n",
        "    \n",
        "    # decoder\n",
        "    encoder_results = encoder(input_image)\n",
        "\n",
        "    features = []\n",
        "    features.append(torch.randn(*list(encoder_results[0].shape)).to(device))\n",
        "    features.append(torch.randn(*list(encoder_results[1].shape)).to(device))\n",
        "    features.append(torch.randn(*list(encoder_results[2].shape)).to(device))\n",
        "\n",
        "    input_layer_names = ['features_1', 'features_2', 'features_3']\n",
        "    output_layer_names = ['depth']\n",
        "\n",
        "    torch.onnx.export(\n",
        "        decoder, \n",
        "        features,\n",
        "        file_name + '/decoder.onnx', \n",
        "        verbose=True,\n",
        "        input_names=input_layer_names,\n",
        "        output_names=output_layer_names,\n",
        "        do_constant_folding=False,\n",
        "        opset_version=13,\n",
        "    )\n",
        "\n",
        "    !onnxsim $file_name'/encoder.onnx' $file_name'/encoder.onnx'\n",
        "    !onnxsim $file_name'/decoder.onnx' $file_name'/decoder.onnx'"
      ],
      "metadata": {
        "id": "VlUlCQACBP5L"
      },
      "execution_count": 9,
      "outputs": []
    },
    {
      "cell_type": "markdown",
      "source": [
        "# ONNX変換"
      ],
      "metadata": {
        "id": "n07aN4882mbg"
      }
    },
    {
      "cell_type": "code",
      "source": [
        "file_name = 'lite-mono_640x192'\n",
        "input_shape = (640, 192)\n",
        "model='lite-mono'\n",
        "\n",
        "load_weights_folder = 'weights/' + file_name\n",
        "encoder, decoder = load_network(model, load_weights_folder)\n",
        "\n",
        "convert_to_onnx(\n",
        "    input_shape=input_shape, \n",
        "    output_dir=file_name, \n",
        "    encoder=encoder, \n",
        "    decoder=decoder, \n",
        "    device='cuda:0',\n",
        ")"
      ],
      "metadata": {
        "id": "Pt6yY5n91Pnz"
      },
      "execution_count": null,
      "outputs": []
    },
    {
      "cell_type": "code",
      "source": [
        "file_name = 'lite-mono-small_640x192'\n",
        "input_shape = (640, 192)\n",
        "model='lite-mono-small'\n",
        "\n",
        "load_weights_folder = 'weights/' + file_name\n",
        "encoder, decoder = load_network(model, load_weights_folder)\n",
        "\n",
        "convert_to_onnx(\n",
        "    input_shape=input_shape, \n",
        "    output_dir=file_name, \n",
        "    encoder=encoder, \n",
        "    decoder=decoder, \n",
        "    device='cuda:0',\n",
        ")"
      ],
      "metadata": {
        "id": "ojNUTUA33Rd3"
      },
      "execution_count": null,
      "outputs": []
    },
    {
      "cell_type": "code",
      "source": [
        "file_name = 'lite-mono-tiny_640x192'\n",
        "input_shape = (640, 192)\n",
        "model='lite-mono-tiny'\n",
        "\n",
        "load_weights_folder = 'weights/' + file_name\n",
        "encoder, decoder = load_network(model, load_weights_folder)\n",
        "\n",
        "convert_to_onnx(\n",
        "    input_shape=input_shape, \n",
        "    output_dir=file_name, \n",
        "    encoder=encoder, \n",
        "    decoder=decoder, \n",
        "    device='cuda:0',\n",
        ")"
      ],
      "metadata": {
        "id": "YCiCC0pN3dI8"
      },
      "execution_count": null,
      "outputs": []
    },
    {
      "cell_type": "code",
      "source": [
        "file_name = 'lite-mono-8m_640x192'\n",
        "input_shape = (640, 192)\n",
        "model='lite-mono-8m'\n",
        "\n",
        "load_weights_folder = 'weights/' + file_name\n",
        "encoder, decoder = load_network(model, load_weights_folder)\n",
        "\n",
        "convert_to_onnx(\n",
        "    input_shape=input_shape, \n",
        "    output_dir=file_name, \n",
        "    encoder=encoder, \n",
        "    decoder=decoder, \n",
        "    device='cuda:0',\n",
        ")"
      ],
      "metadata": {
        "id": "aJHlnrHG3vxZ"
      },
      "execution_count": null,
      "outputs": []
    },
    {
      "cell_type": "code",
      "source": [
        "file_name = 'lite-mono_1024x320'\n",
        "input_shape = (1024, 320)\n",
        "model='lite-mono'\n",
        "\n",
        "load_weights_folder = 'weights/' + file_name\n",
        "encoder, decoder = load_network(model, load_weights_folder)\n",
        "\n",
        "convert_to_onnx(\n",
        "    input_shape=input_shape, \n",
        "    output_dir=file_name, \n",
        "    encoder=encoder, \n",
        "    decoder=decoder, \n",
        "    device='cuda:0',\n",
        ")"
      ],
      "metadata": {
        "id": "bSErbKFM3vvC"
      },
      "execution_count": null,
      "outputs": []
    },
    {
      "cell_type": "code",
      "source": [
        "file_name = 'lite-mono-small_1024x320'\n",
        "input_shape = (1024, 320)\n",
        "model='lite-mono-small'\n",
        "\n",
        "load_weights_folder = 'weights/' + file_name\n",
        "encoder, decoder = load_network(model, load_weights_folder)\n",
        "\n",
        "convert_to_onnx(\n",
        "    input_shape=input_shape, \n",
        "    output_dir=file_name, \n",
        "    encoder=encoder, \n",
        "    decoder=decoder, \n",
        "    device='cuda:0',\n",
        ")"
      ],
      "metadata": {
        "id": "wrfyUXSQ3vtA"
      },
      "execution_count": null,
      "outputs": []
    },
    {
      "cell_type": "code",
      "source": [
        "file_name = 'lite-mono-tiny_1024x320'\n",
        "input_shape = (1024, 320)\n",
        "model='lite-mono-tiny'\n",
        "\n",
        "load_weights_folder = 'weights/' + file_name\n",
        "encoder, decoder = load_network(model, load_weights_folder)\n",
        "\n",
        "convert_to_onnx(\n",
        "    input_shape=input_shape, \n",
        "    output_dir=file_name, \n",
        "    encoder=encoder, \n",
        "    decoder=decoder, \n",
        "    device='cuda:0',\n",
        ")"
      ],
      "metadata": {
        "id": "_LHujSGB3vqI"
      },
      "execution_count": null,
      "outputs": []
    },
    {
      "cell_type": "code",
      "source": [
        "file_name = 'lite-mono-8m_1024x320'\n",
        "input_shape = (1024, 320)\n",
        "model='lite-mono-8m'\n",
        "\n",
        "load_weights_folder = 'weights/' + file_name\n",
        "encoder, decoder = load_network(model, load_weights_folder)\n",
        "\n",
        "convert_to_onnx(\n",
        "    input_shape=input_shape, \n",
        "    output_dir=file_name, \n",
        "    encoder=encoder, \n",
        "    decoder=decoder, \n",
        "    device='cuda:0',\n",
        ")"
      ],
      "metadata": {
        "id": "htilgap07DwL"
      },
      "execution_count": null,
      "outputs": []
    },
    {
      "cell_type": "markdown",
      "source": [
        "# zip"
      ],
      "metadata": {
        "id": "SlE3XOkjEGDr"
      }
    },
    {
      "cell_type": "code",
      "source": [
        "!mkdir onnx_weights"
      ],
      "metadata": {
        "id": "eFlAzubjEG-d"
      },
      "execution_count": 18,
      "outputs": []
    },
    {
      "cell_type": "code",
      "source": [
        "!zip onnx_weights/lite-mono_640x192 -r lite-mono_640x192\n",
        "!zip onnx_weights/lite-mono-small_640x192 -r lite-mono-small_640x192\n",
        "!zip onnx_weights/lite-mono-tiny_640x192 -r lite-mono-tiny_640x192\n",
        "!zip onnx_weights/lite-mono-8m_640x192 -r lite-mono-8m_640x192\n",
        "!zip onnx_weights/lite-mono_1024x320 -r lite-mono_1024x320\n",
        "!zip onnx_weights/lite-mono-small_1024x320 -r lite-mono-small_1024x320\n",
        "!zip onnx_weights/lite-mono-tiny_1024x320 -r lite-mono-tiny_1024x320\n",
        "!zip onnx_weights/lite-mono-8m_1024x320 -r lite-mono-8m_1024x320\n",
        "\n",
        "!zip onnx_weights -r onnx_weights"
      ],
      "metadata": {
        "id": "Mdk8BSmyEQK2"
      },
      "execution_count": null,
      "outputs": []
    }
  ]
}